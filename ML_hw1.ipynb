{
  "cells": [
    {
      "cell_type": "markdown",
      "metadata": {},
      "source": [
        "This homework was created by:\r\n",
        "\r\n",
        "Galvin Hoang\r\n",
        "Chiara Lesa\r\n",
        "Anna Novikova\r\n",
        "\r\n",
        "As this was created in google colab, some errors might arise depending on the distribution of python used when executing this code.\r\n",
        "\r\n",
        "You can find and execute the original colab code by [clicking this hyperlink](https://colab.research.google.com/drive/1BLrY2DS_evuCO_l1rshayqQiLPRpgaap?usp=sharing)"
      ]
    },
    {
      "cell_type": "markdown",
      "metadata": {
        "id": "B2cqTX6J8JZv"
      },
      "source": [
        "# **Exercise sheet 1**\n",
        "\n",
        "## Exercise 1:\n",
        "\n",
        "Consider the following [Fashion-mnist-data\n",
        "set](https://keras.io/datasets/#fashion-mnist-database-of-fashion-articles). Implement the learning task of classifying the 10 different image types according to the following table.\n",
        "\n",
        "\n",
        "    0   T-shirt/top\n",
        "\n",
        "    1   Trouser\n",
        "\n",
        "    2   Pullover\n",
        "\n",
        "    3   Dress\n",
        "\n",
        "    4   Coat\n",
        "\n",
        "    5   Sandal\n",
        "\n",
        "    6   Shirt\n",
        "\n",
        "    7   Sneaker\n",
        "\n",
        "    8   Bag\n",
        "\n",
        "    9   Ankle boot\n",
        "\n",
        "You can use the MNIST implementation from the lecture.\n"
      ]
    },
    {
      "cell_type": "code",
      "execution_count": 16,
      "metadata": {
        "id": "MgRnIPyqLluH"
      },
      "outputs": [],
      "source": [
        "## Loading packages\n",
        "import os\n",
        "os.environ['TF_CPP_MIN_LOG_LEVEL'] = '2' \n",
        "import numpy as np\n",
        "import tensorflow as tf\n",
        "import matplotlib.pyplot as plt"
      ]
    },
    {
      "cell_type": "code",
      "execution_count": null,
      "metadata": {
        "colab": {
          "base_uri": "https://localhost:8080/"
        },
        "id": "YxWdzrh08Iwf",
        "outputId": "420dad10-7c10-412a-9762-4e0d9f90d676"
      },
      "outputs": [
        {
          "name": "stdout",
          "output_type": "stream",
          "text": [
            "Downloading data from https://storage.googleapis.com/tensorflow/tf-keras-datasets/train-labels-idx1-ubyte.gz\n",
            "32768/29515 [=================================] - 0s 0us/step\n",
            "40960/29515 [=========================================] - 0s 0us/step\n",
            "Downloading data from https://storage.googleapis.com/tensorflow/tf-keras-datasets/train-images-idx3-ubyte.gz\n",
            "26427392/26421880 [==============================] - 0s 0us/step\n",
            "26435584/26421880 [==============================] - 0s 0us/step\n",
            "Downloading data from https://storage.googleapis.com/tensorflow/tf-keras-datasets/t10k-labels-idx1-ubyte.gz\n",
            "16384/5148 [===============================================================================================] - 0s 0us/step\n",
            "Downloading data from https://storage.googleapis.com/tensorflow/tf-keras-datasets/t10k-images-idx3-ubyte.gz\n",
            "4423680/4422102 [==============================] - 0s 0us/step\n",
            "4431872/4422102 [==============================] - 0s 0us/step\n"
          ]
        }
      ],
      "source": [
        "# load MNIST data set\n",
        "(x_train, y_train), (x_test, y_test) = tf.keras.datasets.fashion_mnist.load_data()"
      ]
    },
    {
      "cell_type": "code",
      "execution_count": null,
      "metadata": {
        "colab": {
          "base_uri": "https://localhost:8080/",
          "height": 283
        },
        "id": "yaaXabcuLc-V",
        "outputId": "6c30afd6-c06d-4873-ab0b-fd2601132355"
      },
      "outputs": [
        {
          "name": "stdout",
          "output_type": "stream",
          "text": [
            "Image number 13610 is supposed to be: 1\n"
          ]
        },
        {
          "data": {
            "image/png": "[encoded data removed]",
            "text/plain": [
              "<Figure size 432x288 with 1 Axes>"
            ]
          },
          "metadata": {
            "needs_background": "light"
          },
          "output_type": "display_data"
        }
      ],
      "source": [
        "def show(i):\n",
        "    print('Image number',i,'is supposed to be:',y_train[i]) # The label of training data point is printed\n",
        "    plt.imshow(x_train[i], cmap='Greys')\n",
        "    plt.show()\n",
        "image_index = np.random.randint(60000)  # You may select anything up to 60,000\n",
        "show(image_index)"
      ]
    },
    {
      "cell_type": "code",
      "execution_count": null,
      "metadata": {
        "id": "YDgJ6tTdL42N"
      },
      "outputs": [],
      "source": [
        "# Reshaping the array to 4-dims so that it can work with the Keras API\n",
        "x_train = x_train.reshape(x_train.shape[0], 28, 28, 1) # 28 image columns and rows, \n",
        "# the last entry corresponds to the color chanels (1 for grey scale)\n",
        "x_test = x_test.reshape(x_test.shape[0], 28, 28, 1)\n",
        "input_shape = (28, 28, 1)\n",
        "# Making sure that the values are float so that we can get decimal points after division\n",
        "x_train = x_train.astype('float32')\n",
        "x_test = x_test.astype('float32')"
      ]
    },
    {
      "cell_type": "code",
      "execution_count": null,
      "metadata": {
        "colab": {
          "base_uri": "https://localhost:8080/"
        },
        "id": "5PC4vKDlL-Lq",
        "outputId": "de67efb9-b989-417e-d6dd-b566c0f3fe06"
      },
      "outputs": [
        {
          "name": "stdout",
          "output_type": "stream",
          "text": [
            "x_train shape: (60000, 28, 28, 1)\n",
            "Number of images in x_train 60000\n",
            "Number of images in x_test 10000\n"
          ]
        },
        {
          "data": {
            "text/plain": [
              "(60000,)"
            ]
          },
          "execution_count": 6,
          "metadata": {},
          "output_type": "execute_result"
        }
      ],
      "source": [
        "# Normalizing the RGB (red green blue) codes by dividing it to the max RGB value.\n",
        "# For the pixels there are usually 256 color values [0-255], normalization to [0,1]\n",
        "x_train /= 255\n",
        "x_test /= 255\n",
        "print('x_train shape:', x_train.shape) #shape property giv\n",
        "print('Number of images in x_train', x_train.shape[0])\n",
        "print('Number of images in x_test', x_test.shape[0])\n",
        "y_train.shape"
      ]
    },
    {
      "cell_type": "code",
      "execution_count": null,
      "metadata": {
        "id": "1lAVe5DOMBLM"
      },
      "outputs": [],
      "source": [
        "## This imports layer types.\n",
        "from keras.models import Sequential\n",
        "from keras.layers import Dense, Conv2D, Dropout, Flatten, MaxPooling2D"
      ]
    },
    {
      "cell_type": "code",
      "execution_count": null,
      "metadata": {
        "id": "XH0faBw8MFHi"
      },
      "outputs": [],
      "source": [
        "# Creating a Sequential Model and adding the layers\n",
        "model = Sequential()\n",
        "\n",
        "layer1=Conv2D(28, kernel_size=(3,3), input_shape=input_shape) # (3,3) for mnist\n",
        "#Input to such a layer is a tensor(batch, rows, cols, channels)\n",
        "#Output of such a layer is a tensor(batch, rows, cols, filters)\n",
        "layer1.trainable=True\n",
        "model.add(layer1) \n",
        "model.add(MaxPooling2D(pool_size=(2, 2))) \n",
        "model.add(Flatten()) # Flattening the arrays for fully connected layers\n",
        "\n",
        "\n",
        "layer2 = Dense(128, activation=tf.nn.relu,kernel_initializer='random_uniform')\n",
        "#Output dimension is 128, activation function is relu, kernel initializer refers \n",
        "#to how the parameters of the matrix are initialized, \n",
        "layer2.trainable=True #False\n",
        "model.add(layer2)\n",
        "\n",
        "layer3 = Dense(2*128, activation=tf.nn.relu,kernel_initializer='random_uniform')\n",
        "layer3.trainable=False\n",
        "model.add(layer3)"
      ]
    },
    {
      "cell_type": "code",
      "execution_count": null,
      "metadata": {
        "colab": {
          "base_uri": "https://localhost:8080/"
        },
        "id": "Q_jndVzaMJuD",
        "outputId": "d3809be6-c4c6-41b1-fa4c-e95157703634"
      },
      "outputs": [
        {
          "name": "stdout",
          "output_type": "stream",
          "text": [
            "Model: \"sequential\"\n",
            "_________________________________________________________________\n",
            " Layer (type)                Output Shape              Param #   \n",
            "=================================================================\n",
            " conv2d (Conv2D)             (None, 26, 26, 28)        280       \n",
            "                                                                 \n",
            " max_pooling2d (MaxPooling2D  (None, 13, 13, 28)       0         \n",
            " )                                                               \n",
            "                                                                 \n",
            " flatten (Flatten)           (None, 4732)              0         \n",
            "                                                                 \n",
            " dense (Dense)               (None, 128)               605824    \n",
            "                                                                 \n",
            " dense_1 (Dense)             (None, 256)               33024     \n",
            "                                                                 \n",
            " dropout (Dropout)           (None, 256)               0         \n",
            "                                                                 \n",
            " dense_2 (Dense)             (None, 10)                2570      \n",
            "                                                                 \n",
            "=================================================================\n",
            "Total params: 641,698\n",
            "Trainable params: 608,674\n",
            "Non-trainable params: 33,024\n",
            "_________________________________________________________________\n",
            "1875/1875 [==============================] - 32s 17ms/step - loss: 0.4797 - accuracy: 0.8270\n",
            "313/313 [==============================] - 2s 6ms/step - loss: 0.3416 - accuracy: 0.8759\n",
            "Test result: [loss, accuracy]= [0.3415707051753998, 0.8758999705314636]\n"
          ]
        }
      ],
      "source": [
        "model.add(Dropout(0.2)) \n",
        "model.add(Dense(10,activation=tf.nn.softmax)) \n",
        "#10 is the output dimension, \n",
        "#softmax is applied to give the probability of the digits 1 to 10\n",
        "\n",
        "\n",
        "## Model summary:\n",
        "model.summary()\n",
        "\n",
        "\n",
        "\n",
        "model.compile(optimizer='adam', loss='sparse_categorical_crossentropy', metrics=['accuracy'])\n",
        "\n",
        "\n",
        "# Training happens now:\n",
        "model.fit(x=x_train,y=y_train, epochs=1)\n",
        "\n",
        "# Testing happens here:\n",
        "x = model.evaluate(x_test, y_test)\n",
        "print('Test result: [loss, accuracy]=',x)"
      ]
    },
    {
      "cell_type": "code",
      "execution_count": null,
      "metadata": {
        "colab": {
          "base_uri": "https://localhost:8080/",
          "height": 1000
        },
        "id": "Iv7VykPMMPh-",
        "outputId": "f5b01ec2-6e54-44fd-cbc9-c68c3dca6cac"
      },
      "outputs": [
        {
          "data": {
            "image/png": "[encoded data removed]",
            "text/plain": [
              "<Figure size 432x288 with 1 Axes>"
            ]
          },
          "metadata": {
            "needs_background": "light"
          },
          "output_type": "display_data"
        },
        {
          "name": "stdout",
          "output_type": "stream",
          "text": [
            "Prediction Bag\n",
            "Grand Truth Dress\n"
          ]
        },
        {
          "data": {
            "image/png": "[encoded data removed]",
            "text/plain": [
              "<Figure size 432x288 with 1 Axes>"
            ]
          },
          "metadata": {
            "needs_background": "light"
          },
          "output_type": "display_data"
        },
        {
          "name": "stdout",
          "output_type": "stream",
          "text": [
            "Prediction Sneaker\n",
            "Grand Truth Ankle boot\n"
          ]
        },
        {
          "data": {
            "image/png": "[encoded data removed]",
            "text/plain": [
              "<Figure size 432x288 with 1 Axes>"
            ]
          },
          "metadata": {
            "needs_background": "light"
          },
          "output_type": "display_data"
        },
        {
          "name": "stdout",
          "output_type": "stream",
          "text": [
            "Prediction Coat\n",
            "Grand Truth Shirt\n"
          ]
        },
        {
          "data": {
            "image/png": "[encoded data removed]",
            "text/plain": [
              "<Figure size 432x288 with 1 Axes>"
            ]
          },
          "metadata": {
            "needs_background": "light"
          },
          "output_type": "display_data"
        },
        {
          "name": "stdout",
          "output_type": "stream",
          "text": [
            "Prediction Pullover\n",
            "Grand Truth Coat\n"
          ]
        },
        {
          "data": {
            "image/png": "[encoded data removed]",
            "text/plain": [
              "<Figure size 432x288 with 1 Axes>"
            ]
          },
          "metadata": {
            "needs_background": "light"
          },
          "output_type": "display_data"
        },
        {
          "name": "stdout",
          "output_type": "stream",
          "text": [
            "Prediction Shirt\n",
            "Grand Truth T-shirt/top\n"
          ]
        },
        {
          "data": {
            "image/png": "[encoded data removed]",
            "text/plain": [
              "<Figure size 432x288 with 1 Axes>"
            ]
          },
          "metadata": {
            "needs_background": "light"
          },
          "output_type": "display_data"
        },
        {
          "name": "stdout",
          "output_type": "stream",
          "text": [
            "Prediction Dress\n",
            "Grand Truth T-shirt/top\n"
          ]
        },
        {
          "data": {
            "image/png": "[encoded data removed]",
            "text/plain": [
              "<Figure size 432x288 with 1 Axes>"
            ]
          },
          "metadata": {
            "needs_background": "light"
          },
          "output_type": "display_data"
        },
        {
          "name": "stdout",
          "output_type": "stream",
          "text": [
            "Prediction Coat\n",
            "Grand Truth Shirt\n"
          ]
        },
        {
          "data": {
            "image/png": "[encoded data removed]",
            "text/plain": [
              "<Figure size 432x288 with 1 Axes>"
            ]
          },
          "metadata": {
            "needs_background": "light"
          },
          "output_type": "display_data"
        },
        {
          "name": "stdout",
          "output_type": "stream",
          "text": [
            "Prediction Pullover\n",
            "Grand Truth Coat\n"
          ]
        },
        {
          "data": {
            "image/png": "[encoded data removed]",
            "text/plain": [
              "<Figure size 432x288 with 1 Axes>"
            ]
          },
          "metadata": {
            "needs_background": "light"
          },
          "output_type": "display_data"
        },
        {
          "name": "stdout",
          "output_type": "stream",
          "text": [
            "Prediction Sandal\n",
            "Grand Truth Sneaker\n"
          ]
        },
        {
          "data": {
            "image/png": "[encoded data removed]",
            "text/plain": [
              "<Figure size 432x288 with 1 Axes>"
            ]
          },
          "metadata": {
            "needs_background": "light"
          },
          "output_type": "display_data"
        },
        {
          "name": "stdout",
          "output_type": "stream",
          "text": [
            "Prediction Dress\n",
            "Grand Truth Pullover\n"
          ]
        },
        {
          "data": {
            "image/png": "[encoded data removed]",
            "text/plain": [
              "<Figure size 432x288 with 1 Axes>"
            ]
          },
          "metadata": {
            "needs_background": "light"
          },
          "output_type": "display_data"
        },
        {
          "name": "stdout",
          "output_type": "stream",
          "text": [
            "Prediction Pullover\n",
            "Grand Truth Coat\n"
          ]
        },
        {
          "data": {
            "text/plain": [
              "641698"
            ]
          },
          "execution_count": 10,
          "metadata": {},
          "output_type": "execute_result"
        }
      ],
      "source": [
        "## Searching for some images which have been predicted falsely\n",
        "img_rows=28\n",
        "img_cols=28\n",
        "\n",
        "#so that the function outputs the cloth type rather than the number\n",
        "def switch(argument):\n",
        "    switcher = {\n",
        "        0:'T-shirt/top',\n",
        "        1:'Trouser',\n",
        "        2:'Pullover',\n",
        "        3:'Dress',\n",
        "        4:'Coat',\n",
        "        5:'Sandal',\n",
        "        6:'Shirt',\n",
        "        7:'Sneaker',\n",
        "        8:'Bag',\n",
        "        9:'Ankle boot'\n",
        "    }\n",
        "    return switcher.get(argument)\n",
        "    \n",
        "for i in range(100): # Prediction on 100 test data points\n",
        "    image_index = np.random.randint(10000)\n",
        "    pred = model.predict(x_test[image_index].reshape(1, img_rows, img_cols, 1))\n",
        "    if pred.argmax() != y_test[image_index]: #show if prediction is not correct\n",
        "        plt.imshow(x_test[image_index].reshape(28, 28),cmap='Greys')\n",
        "        plt.show()\n",
        "        #print('Prediction',pred.argmax())\n",
        "        #print('Grand Truth',y_test[image_index])\n",
        "        print('Prediction: ', switch(pred.argmax()))\n",
        "        print('Grand Truth: ',switch(y_test[image_index]))\n",
        "\n",
        "\n",
        "\n",
        "model.count_params()"
      ]
    },
    {
      "cell_type": "markdown",
      "metadata": {
        "id": "0AnpvTL2ItxR"
      },
      "source": [
        "## Exercise 2:\n",
        "\n",
        "The goal here is to learn the function $f(x)=x^2$ and\n",
        "$g(x)=0.25(sin(2 \\pi x^2)+2.0)$ on $[0,1]$ using neural networks\n",
        "whose characteristics will be specified below. For illustration purposes\n",
        "we here plot the functions.\n"
      ]
    },
    {
      "cell_type": "markdown",
      "metadata": {
        "id": "7QEx3WYqJbdn"
      },
      "source": [
        "Take as training data uniformly sampled data on $[0,1]$ of size $100$.\n",
        "-   Implement a simple neural network with one hidden layer with activation function relu and a linear readout map. Learn the parameters using a mean square error loss and compare the learned map with the true function.\n",
        "-   How many nodes do you have to choose such that it works? Does it work at all? Do you observe a different behavior for the two functions?\n",
        "-   Try with more training data and also with a deep neural network. Does it work better?"
      ]
    },
    {
      "cell_type": "code",
      "execution_count": 17,
      "metadata": {
        "id": "tPiMgwEFI9in"
      },
      "outputs": [],
      "source": [
        "import numpy as np\n",
        "import tensorflow as tf\n",
        "import matplotlib.pyplot as plt\n",
        "from tensorflow import keras\n",
        "from keras.models import Sequential\n",
        "from keras.layers import Dense, Conv2D, Dropout, Flatten, MaxPooling2D"
      ]
    },
    {
      "cell_type": "code",
      "execution_count": 9,
      "metadata": {
        "colab": {
          "base_uri": "https://localhost:8080/",
          "height": 283
        },
        "id": "uO77UWT2JKqf",
        "outputId": "8379ef57-bcf8-48eb-c664-c8b87082c6cb"
      },
      "outputs": [
        {
          "data": {
            "text/plain": [
              "[<matplotlib.lines.Line2D at 0x7fe23edfbf90>]"
            ]
          },
          "execution_count": 9,
          "metadata": {},
          "output_type": "execute_result"
        },
        {
          "data": {
            "image/png": "[encoded data removed]",
            "text/plain": [
              "<Figure size 432x288 with 1 Axes>"
            ]
          },
          "metadata": {
            "needs_background": "light"
          },
          "output_type": "display_data"
        }
      ],
      "source": [
        "def func_square(x):\n",
        "        resultsquare = (x)**2\n",
        "        return (resultsquare)\n",
        "\n",
        "# Densely spaced points for generating the ideal functional curve\n",
        "x_min = 0 # Min of the range of x (feature)\n",
        "x_max = 1 # Max of the range of x (feature)\n",
        "x = np.array(np.linspace(x_min,x_max,100))\n",
        "\n",
        "y = func_square(x)\n",
        "plt.plot(x,y,'k') # Plotting x^2\n"
      ]
    },
    {
      "cell_type": "code",
      "execution_count": 10,
      "metadata": {
        "id": "72PsG58lpt6B"
      },
      "outputs": [],
      "source": [
        "#reshaping an array to have 1 entry per row\n",
        "x = x.reshape((len(x), 1))\n",
        "y = y.reshape((len(y), 1))"
      ]
    },
    {
      "cell_type": "code",
      "execution_count": 11,
      "metadata": {
        "id": "yJJ3z3uduxkX"
      },
      "outputs": [],
      "source": [
        "import numpy as np\n",
        "from sklearn.model_selection import train_test_split"
      ]
    },
    {
      "cell_type": "code",
      "execution_count": 12,
      "metadata": {
        "id": "rsOGnMhBu3VM"
      },
      "outputs": [],
      "source": [
        "X_train, X_test, y_train, y_test = train_test_split(\n",
        "    x, y, test_size=0.30, random_state=42)"
      ]
    },
    {
      "cell_type": "code",
      "execution_count": 50,
      "metadata": {
        "colab": {
          "base_uri": "https://localhost:8080/"
        },
        "id": "3LCz6ReeeZiw",
        "outputId": "e671f72a-608d-4fc3-81aa-7bd570b936ed"
      },
      "outputs": [
        {
          "name": "stdout",
          "output_type": "stream",
          "text": [
            "Model: \"sequential_8\"\n",
            "_________________________________________________________________\n",
            " Layer (type)                Output Shape              Param #   \n",
            "=================================================================\n",
            " dense_17 (Dense)            (None, 100)               200       \n",
            "                                                                 \n",
            " dense_18 (Dense)            (None, 1)                 101       \n",
            "                                                                 \n",
            "=================================================================\n",
            "Total params: 301\n",
            "Trainable params: 301\n",
            "Non-trainable params: 0\n",
            "_________________________________________________________________\n"
          ]
        }
      ],
      "source": [
        "# First, we create a simple neural network\n",
        "# That means, we use only one hidden layer\n",
        "\n",
        "x_train = np.random.uniform(0, 1, 100)\n",
        "y_train = func_square(x_train)\n",
        "\n",
        "# Here, we will use 100 nodes in this hidden layer\n",
        "\n",
        "model = Sequential()\n",
        "\n",
        "model.add(Dense(100, input_dim=1, activation='relu', kernel_initializer='random_uniform'))\n",
        "model.add(Dense(1))\n",
        "\n",
        "model.summary()"
      ]
    },
    {
      "cell_type": "code",
      "execution_count": null,
      "metadata": {
        "id": "sQ6QeO9peq2O"
      },
      "outputs": [],
      "source": [
        "model.compile(loss='mse', optimizer='adam')\n",
        "# training the model\n",
        "model.fit(x_train, y_train, epochs=100)"
      ]
    },
    {
      "cell_type": "code",
      "execution_count": 52,
      "metadata": {
        "colab": {
          "base_uri": "https://localhost:8080/",
          "height": 283
        },
        "id": "AgMymVxcfu9D",
        "outputId": "7e4e0af7-7651-49bf-c7a1-ca23e3c43876"
      },
      "outputs": [
        {
          "data": {
            "text/plain": [
              "[<matplotlib.lines.Line2D at 0x7fe2328f5350>]"
            ]
          },
          "execution_count": 52,
          "metadata": {},
          "output_type": "execute_result"
        },
        {
          "data": {
            "image/png": "[encoded data removed]",
            "text/plain": [
              "<Figure size 432x288 with 1 Axes>"
            ]
          },
          "metadata": {
            "needs_background": "light"
          },
          "output_type": "display_data"
        }
      ],
      "source": [
        "y_learnt = model.predict(x)\n",
        "\n",
        "plt.plot(x,y_learnt, \"o\")"
      ]
    },
    {
      "cell_type": "code",
      "execution_count": null,
      "metadata": {
        "id": "5h4mGQhDgOaa"
      },
      "outputs": [],
      "source": [
        "# So this works really bad\n",
        "# After some trial and error, we can see that we must either increase the \n",
        "# length of x_train to 1000 or the nodes to a value of 1000:\n",
        "\n",
        "model = Sequential()\n",
        "model.add(Dense(1000, input_dim=1, activation='relu', kernel_initializer='random_uniform'))\n",
        "model.add(Dense(1))\n",
        "model.compile(loss='mse', optimizer='adam')\n",
        "# training the model\n",
        "model.fit(x_train, y_train, epochs=100)\n",
        "y_learnt = model.predict(x)"
      ]
    },
    {
      "cell_type": "code",
      "execution_count": 67,
      "metadata": {
        "colab": {
          "base_uri": "https://localhost:8080/",
          "height": 305
        },
        "id": "1Z80m_1dgqTa",
        "outputId": "d603ad22-a8fd-419c-8665-c3a06a2c2f45"
      },
      "outputs": [
        {
          "name": "stdout",
          "output_type": "stream",
          "text": [
            "4/4 [==============================] - 0s 3ms/step - loss: 0.1702\n",
            "Test result: [loss, accuracy]= 0.17020420730113983\n"
          ]
        },
        {
          "data": {
            "image/png": "[encoded data removed]",
            "text/plain": [
              "<Figure size 432x288 with 1 Axes>"
            ]
          },
          "metadata": {
            "needs_background": "light"
          },
          "output_type": "display_data"
        }
      ],
      "source": [
        "plt.plot(x,y_learnt, \"o\")\n",
        "t = model.evaluate(y_learnt, y_train)\n",
        "print('Test result: [loss, accuracy]=',t)"
      ]
    },
    {
      "cell_type": "code",
      "execution_count": 59,
      "metadata": {
        "colab": {
          "base_uri": "https://localhost:8080/"
        },
        "id": "AcDzFkSDp9po",
        "outputId": "0743e42b-3445-407f-8d5d-5eb10fb83a39"
      },
      "outputs": [
        {
          "name": "stdout",
          "output_type": "stream",
          "text": [
            "Model: \"sequential_11\"\n",
            "_________________________________________________________________\n",
            " Layer (type)                Output Shape              Param #   \n",
            "=================================================================\n",
            " dense_24 (Dense)            (None, 100)               200       \n",
            "                                                                 \n",
            " dense_25 (Dense)            (None, 100)               10100     \n",
            "                                                                 \n",
            " dense_26 (Dense)            (None, 1)                 101       \n",
            "                                                                 \n",
            "=================================================================\n",
            "Total params: 10,401\n",
            "Trainable params: 10,401\n",
            "Non-trainable params: 0\n",
            "_________________________________________________________________\n"
          ]
        }
      ],
      "source": [
        "# This looks a bit better, but using deep neural networks, we can solve this\n",
        "# using less nodes. Here, we used 202 nodes:\n",
        "# one node in the input layer, hundred nodes for each of the two hidden layers \n",
        "# and one node in the output layer\n",
        "\n",
        "model = Sequential()\n",
        "\n",
        "model.add(Dense(100, input_dim=1, activation='relu', kernel_initializer='random_uniform'))\n",
        "model.add(Dense(100, activation='relu', kernel_initializer='random_uniform'))\n",
        "model.add(Dense(1))\n",
        "\n",
        "model.summary()\n"
      ]
    },
    {
      "cell_type": "code",
      "execution_count": null,
      "metadata": {
        "id": "H5xEidrTYkty"
      },
      "outputs": [],
      "source": [
        "model.compile(loss='mse', optimizer='adam')\n",
        "model.fit(x_train, y_train, epochs=100)"
      ]
    },
    {
      "cell_type": "code",
      "execution_count": 64,
      "metadata": {
        "colab": {
          "base_uri": "https://localhost:8080/",
          "height": 303
        },
        "id": "FHTbtypChFiS",
        "outputId": "c31c72f3-4ff5-4a47-f5da-c78536237775"
      },
      "outputs": [
        {
          "name": "stdout",
          "output_type": "stream",
          "text": [
            "4/4 [==============================] - 0s 2ms/step - loss: 0.1698\n",
            "Test result: [loss, accuracy]= 0.16978749632835388\n"
          ]
        },
        {
          "data": {
            "image/png": "[encoded data removed]",
            "text/plain": [
              "<Figure size 432x288 with 1 Axes>"
            ]
          },
          "metadata": {
            "needs_background": "light"
          },
          "output_type": "display_data"
        }
      ],
      "source": [
        "y_learnt = model.predict(x)\n",
        "plt.plot(x,y_learnt, \"o\")\n",
        "t = model.evaluate(y_learnt, y_train)\n",
        "print('Test result: [loss, accuracy]=',t)"
      ]
    },
    {
      "cell_type": "markdown",
      "metadata": {
        "id": "m8WHxpMPwtnZ"
      },
      "source": [
        "### Second graph"
      ]
    },
    {
      "cell_type": "code",
      "execution_count": 69,
      "metadata": {
        "colab": {
          "base_uri": "https://localhost:8080/",
          "height": 283
        },
        "id": "oeROnrJdJTLo",
        "outputId": "e217dba1-3126-438f-ecd7-4639cf7016f2"
      },
      "outputs": [
        {
          "data": {
            "text/plain": [
              "[<matplotlib.lines.Line2D at 0x7fe22d072d90>]"
            ]
          },
          "execution_count": 69,
          "metadata": {},
          "output_type": "execute_result"
        },
        {
          "data": {
            "image/png": "[encoded data removed]",
            "text/plain": [
              "<Figure size 432x288 with 1 Axes>"
            ]
          },
          "metadata": {
            "needs_background": "light"
          },
          "output_type": "display_data"
        }
      ],
      "source": [
        "def func_sin(x):\n",
        "        resultsin=0.25*(np.sin(2*np.pi*x*x)+2.0)\n",
        "        return (resultsin)\n",
        "\n",
        "# Densely spaced points for generating the ideal functional curve\n",
        "x_min = 0 # Min of the range of x (feature)\n",
        "x_max = 1 # Max of the range of x (feature)\n",
        "x = np.array(np.linspace(x_min,x_max,100))\n",
        "\n",
        "y = func_sin(x)\n",
        "plt.plot(x,y,'k') # Plotting 0.25(\\sin(2\\pi x^2)+2.0)"
      ]
    },
    {
      "cell_type": "code",
      "execution_count": 84,
      "metadata": {
        "id": "ZjEP-pWM8Esx"
      },
      "outputs": [],
      "source": [
        "x_train = np.random.uniform(0, 1, 1000)\n",
        "y_train = func_sin(x_train)"
      ]
    },
    {
      "cell_type": "code",
      "execution_count": null,
      "metadata": {
        "id": "7kgbzBa2xIGM"
      },
      "outputs": [],
      "source": [
        "#Creating a sequential model and adding the values\n",
        "\n",
        "model = Sequential()\n",
        "model.add(Dense(1000, input_dim=1, activation='relu', kernel_initializer='random_uniform'))\n",
        "model.add(Dense(1))\n",
        "\n",
        "# Loss function and optimisation algorithm\n",
        "model.compile(loss='mse', optimizer='adam')\n",
        "# Training\n",
        "model.fit(x_train,y_train, epochs=100)"
      ]
    },
    {
      "cell_type": "code",
      "execution_count": 86,
      "metadata": {
        "colab": {
          "base_uri": "https://localhost:8080/",
          "height": 283
        },
        "id": "Dy6WGITfxVH2",
        "outputId": "d492d131-8afe-4761-d6a0-bbd767b0ea38"
      },
      "outputs": [
        {
          "data": {
            "text/plain": [
              "[<matplotlib.lines.Line2D at 0x7fe2266d7690>]"
            ]
          },
          "execution_count": 86,
          "metadata": {},
          "output_type": "execute_result"
        },
        {
          "data": {
            "image/png": "[encoded data removed]",
            "text/plain": [
              "<Figure size 432x288 with 1 Axes>"
            ]
          },
          "metadata": {
            "needs_background": "light"
          },
          "output_type": "display_data"
        }
      ],
      "source": [
        "yhat = model.predict(x)\n",
        "plt.plot(x,yhat,'o') # Plotting the second function"
      ]
    },
    {
      "cell_type": "code",
      "execution_count": null,
      "metadata": {
        "id": "ujIPmNF6jI8o"
      },
      "outputs": [],
      "source": [
        "# Again, this didn't go well, it seems this function is too complex for only 1000 nodes\n",
        "# Let's try again with 100000 nodes\n",
        "\n",
        "model = Sequential()\n",
        "model.add(Dense(100000, input_dim=1, activation='relu', kernel_initializer='random_uniform'))\n",
        "model.add(Dense(1))\n",
        "\n",
        "# Loss function and optimisation algorithm\n",
        "model.compile(loss='mse', optimizer='adam')\n",
        "# Training\n",
        "model.fit(x_train,y_train, epochs=100)"
      ]
    },
    {
      "cell_type": "code",
      "execution_count": 88,
      "metadata": {
        "colab": {
          "base_uri": "https://localhost:8080/",
          "height": 283
        },
        "id": "gykjvXG3jXDI",
        "outputId": "70fabd93-45a7-452e-fdf5-54d52e3087b9"
      },
      "outputs": [
        {
          "data": {
            "text/plain": [
              "[<matplotlib.lines.Line2D at 0x7fe2266ed5d0>]"
            ]
          },
          "execution_count": 88,
          "metadata": {},
          "output_type": "execute_result"
        },
        {
          "data": {
            "image/png": "[encoded data removed]",
            "text/plain": [
              "<Figure size 432x288 with 1 Axes>"
            ]
          },
          "metadata": {
            "needs_background": "light"
          },
          "output_type": "display_data"
        }
      ],
      "source": [
        "yhat = model.predict(x)\n",
        "plt.plot(x,yhat,'o') # Plotting the second function"
      ]
    },
    {
      "cell_type": "code",
      "execution_count": null,
      "metadata": {
        "id": "dFHgSBnnaXRQ"
      },
      "outputs": [],
      "source": [
        "# This worked much better\n",
        "# Now let's try with a deep neural network\n",
        "# This time we will use three layers of 1000 each\n",
        "\n",
        "model = Sequential()\n",
        "model.add(Dense(1000, input_dim=1, activation='relu', kernel_initializer='random_uniform'))\n",
        "model.add(Dense(1000, activation='relu', kernel_initializer='random_uniform'))\n",
        "model.add(Dense(1000, activation='relu', kernel_initializer='random_uniform'))\n",
        "model.add(Dense(1))\n",
        "\n",
        "# Loss function and optimisation algorithm\n",
        "model.compile(loss='mse', optimizer='adam')\n",
        "# Training\n",
        "model.fit(x_train,y_train, epochs=100)"
      ]
    },
    {
      "cell_type": "code",
      "execution_count": 90,
      "metadata": {
        "colab": {
          "base_uri": "https://localhost:8080/",
          "height": 283
        },
        "id": "7Tl766aAk-uY",
        "outputId": "281e87f4-8e3d-49f2-df7c-873b0534098d"
      },
      "outputs": [
        {
          "data": {
            "text/plain": [
              "[<matplotlib.lines.Line2D at 0x7fe226432f50>]"
            ]
          },
          "execution_count": 90,
          "metadata": {},
          "output_type": "execute_result"
        },
        {
          "data": {
            "image/png": "[encoded data removed]",
            "text/plain": [
              "<Figure size 432x288 with 1 Axes>"
            ]
          },
          "metadata": {
            "needs_background": "light"
          },
          "output_type": "display_data"
        }
      ],
      "source": [
        "# The results are convincing\n",
        "# The curve around x-values of 0.8 and 0.9 look slightly smoother\n",
        "yhat = model.predict(x)\n",
        "plt.plot(x,yhat,'o') # Plotting the second function"
      ]
    }
  ],
  "metadata": {
    "colab": {
      "collapsed_sections": [],
      "name": "ML_hw1.ipynb",
      "provenance": []
    },
    "kernelspec": {
      "display_name": "Python 3",
      "name": "python3"
    },
    "language_info": {
      "name": "python"
    }
  },
  "nbformat": 4,
  "nbformat_minor": 5
}